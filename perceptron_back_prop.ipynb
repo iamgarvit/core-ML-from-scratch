{
 "cells": [
  {
   "cell_type": "code",
   "execution_count": 56,
   "id": "e084d7bf",
   "metadata": {},
   "outputs": [],
   "source": [
    "import numpy as np\n",
    "import matplotlib.pyplot as plt"
   ]
  },
  {
   "cell_type": "code",
   "execution_count": 57,
   "id": "4c3b4e36",
   "metadata": {},
   "outputs": [],
   "source": [
    "def sigmoid(z):\n",
    "    return 1 / (1 + np.exp(-z))"
   ]
  },
  {
   "cell_type": "code",
   "execution_count": 58,
   "id": "75eeda11",
   "metadata": {},
   "outputs": [],
   "source": [
    "def squared_loss(yTrue, yPred):\n",
    "    return np.mean(0.5 * (yTrue - yPred) ** 2)"
   ]
  },
  {
   "cell_type": "code",
   "execution_count": 59,
   "id": "8eb5601b",
   "metadata": {},
   "outputs": [],
   "source": [
    "def mean_squared_error(yTrue, yPred):\n",
    "    return np.mean((yTrue - yPred) ** 2)"
   ]
  },
  {
   "cell_type": "code",
   "execution_count": 60,
   "id": "dec89a80",
   "metadata": {},
   "outputs": [],
   "source": [
    "def sign_activation(yHat):\n",
    "    return 1 if yHat >= 0 else 0"
   ]
  },
  {
   "cell_type": "markdown",
   "id": "78497199",
   "metadata": {},
   "source": [
    "\n",
    "### Forward Pass\n",
    "\n",
    "Let:\n",
    "- $w_1 \\in \\mathbb{R}^2$, $b_1 \\in \\mathbb{R}$: weights and bias for hidden layer  \n",
    "- $w_3 \\in \\mathbb{R}$, $b_2 \\in \\mathbb{R}$: weights and bias for output layer\n",
    "\n",
    "Forward computation:\n",
    "1. **Hidden layer pre-activation**:  \n",
    "   $$\n",
    "   z_1 = w_1^T x + b_1\n",
    "   $$\n",
    "2. **Hidden layer activation (sigmoid)**:  \n",
    "   $$\n",
    "   h = \\sigma(z_1) = \\frac{1}{1 + e^{-z_1}}\n",
    "   $$\n",
    "3. **Output**:  \n",
    "   $$\n",
    "   \\hat{y} = w_3 \\cdot h + b_2\n",
    "   $$\n",
    "\n",
    "---\n",
    "\n",
    "### Backward Pass (Gradient Computation)\n",
    "\n",
    "From the loss:  \n",
    "$$\n",
    "\\mathcal{L} = \\frac{1}{2}(y - \\hat{y})^2\n",
    "$$\n",
    "\n",
    "Compute gradients:\n",
    "\n",
    "1. Derivative w.r.t output:\n",
    "   $$\n",
    "   \\frac{\\partial \\mathcal{L}}{\\partial \\hat{y}} = \\hat{y} - y\n",
    "   $$\n",
    "\n",
    "2. Output layer parameters:\n",
    "   $$\n",
    "   \\frac{\\partial \\mathcal{L}}{\\partial w_3} = (\\hat{y} - y) \\cdot h\n",
    "   $$\n",
    "   $$\n",
    "   \\frac{\\partial \\mathcal{L}}{\\partial b_2} = (\\hat{y} - y)\n",
    "   $$\n",
    "\n",
    "3. Hidden layer gradients:\n",
    "\n",
    "Let  \n",
    "$$\n",
    "\\delta = (\\hat{y} - y) \\cdot w_3 \\cdot h(1 - h)\n",
    "$$\n",
    "\n",
    "Then:\n",
    "   $$\n",
    "   \\frac{\\partial \\mathcal{L}}{\\partial w_1} = \\delta \\cdot x\n",
    "   $$\n",
    "   $$\n",
    "   \\frac{\\partial \\mathcal{L}}{\\partial b_1} = \\delta\n",
    "   $$\n",
    "\n",
    "---\n",
    "\n",
    "### Parameter Updates (Gradient Descent)\n",
    "\n",
    "Using learning rate $\\eta$:\n",
    "\n",
    "$$\n",
    "w_1 \\leftarrow w_1 - \\eta \\cdot \\frac{\\partial \\mathcal{L}}{\\partial w_1}\n",
    "\\quad\n",
    "b_1 \\leftarrow b_1 - \\eta \\cdot \\frac{\\partial \\mathcal{L}}{\\partial b_1}\n",
    "$$\n",
    "\n",
    "$$\n",
    "w_3 \\leftarrow w_3 - \\eta \\cdot \\frac{\\partial \\mathcal{L}}{\\partial w_3}\n",
    "\\quad\n",
    "b_2 \\leftarrow b_2 - \\eta \\cdot \\frac{\\partial \\mathcal{L}}{\\partial b_2}\n",
    "$$\n",
    "\n",
    "---\n",
    "\n",
    "### Summary of Gradients\n",
    "\n",
    "| Parameter | Gradient |\n",
    "|----------|-----------|\n",
    "| $w_3$ | $(\\hat{y} - y) \\cdot h$ |\n",
    "| $b_2$ | $\\hat{y} - y$ |\n",
    "| $w_1$ | $(\\hat{y} - y) \\cdot w_3 \\cdot h(1 - h) \\cdot x$ |\n",
    "| $b_1$ | $(\\hat{y} - y) \\cdot w_3 \\cdot h(1 - h)$ |\n"
   ]
  },
  {
   "cell_type": "code",
   "execution_count": 61,
   "id": "e011e2c9",
   "metadata": {},
   "outputs": [],
   "source": [
    "def trainStep(x, y, w1, b1, w3, b2, learningRate):\n",
    "    z1 = np.dot(w1, x) + b1\n",
    "    h = sigmoid(z1)\n",
    "    yHat = w3 * h + b2\n",
    "\n",
    "    dL_dyHat = yHat - y\n",
    "\n",
    "    dL_dw3 = dL_dyHat * h\n",
    "    dL_db2 = dL_dyHat\n",
    "\n",
    "    delta = dL_dyHat * w3 * h * (1 - h)\n",
    "    dL_dw1 = delta * x\n",
    "    dL_db1 = delta\n",
    "\n",
    "    w1 -= learningRate * dL_dw1\n",
    "    b1 -= learningRate * dL_db1\n",
    "    w3 -= learningRate * dL_dw3\n",
    "    b2 -= learningRate * dL_db2\n",
    "\n",
    "    grads = {\n",
    "        \"dL_dw1\": dL_dw1,\n",
    "        \"dL_db1\": dL_db1,\n",
    "        \"dL_dw3\": dL_dw3,\n",
    "        \"dL_db2\": dL_db2\n",
    "    }\n",
    "\n",
    "    return w1, b1, w3, b2, yHat, grads"
   ]
  },
  {
   "cell_type": "code",
   "execution_count": 62,
   "id": "2c7a1066",
   "metadata": {},
   "outputs": [],
   "source": [
    "def predict(x, w1, b1, w3, b2):\n",
    "    z1 = np.dot(w1, x) + b1\n",
    "    h = sigmoid(z1)\n",
    "    yHat = w3 * h + b2\n",
    "    return sign_activation(yHat)  "
   ]
  },
  {
   "cell_type": "code",
   "execution_count": 63,
   "id": "21633754",
   "metadata": {},
   "outputs": [],
   "source": [
    "def train(X, Y, X_test, y_test, learningRate=0.01, threshold=1e-3, patience=5, maxIterations=500):\n",
    "    w1 = np.random.randn(2)      \n",
    "    b1 = np.random.randn()      \n",
    "    w3 = np.random.randn()       \n",
    "    b2 = np.random.randn() \n",
    "\n",
    "    prevLoss = float('inf')\n",
    "    noImprovement = 0\n",
    "\n",
    "    history = {\n",
    "        \"iteration\": [],\n",
    "        \"loss\": [],\n",
    "        \"test_loss\": [],  \n",
    "        \"weights\": [],\n",
    "        \"predictions\": [],\n",
    "    }\n",
    "\n",
    "\n",
    "    for iteration in range(maxIterations):\n",
    "        predictions = []\n",
    "        iterationGradients = []\n",
    "\n",
    "        for x, y in zip(X, Y):\n",
    "            w1, b1, w3, b2, yHat, grads = trainStep(x, y, w1, b1, w3, b2, learningRate)\n",
    "            predictions.append(yHat)\n",
    "            iterationGradients.append(grads)\n",
    "\n",
    "        loss = squared_loss(Y, np.array(predictions))\n",
    "        print(f\"Iteration {iteration+1} | Loss: {loss:.4f}\")\n",
    "\n",
    "        history[\"iteration\"].append(iteration + 1)\n",
    "        history[\"loss\"].append(loss)\n",
    "        history[\"weights\"].append({\n",
    "            \"w1\": w1.copy(),\n",
    "            \"b1\": b1,\n",
    "            \"w3\": w3,\n",
    "            \"b2\": b2,\n",
    "            \"grads\": iterationGradients\n",
    "        })\n",
    "        history[\"predictions\"].append(np.array(predictions))\n",
    "\n",
    "        testPredictions = np.array([w3 * sigmoid(np.dot(w1, x) + b1) + b2 for x in X_test])\n",
    "        testLoss = mean_squared_error(y_test, testPredictions)\n",
    "        history[\"test_loss\"].append(testLoss)\n",
    "\n",
    "        if abs(prevLoss - loss) < threshold:\n",
    "            noImprovement += 1\n",
    "            if noImprovement >= patience:\n",
    "                print(\"Training converged.\")\n",
    "                break\n",
    "        else:\n",
    "            noImprovement = 0\n",
    "\n",
    "        prevLoss = loss\n",
    "\n",
    "    return w1, b1, w3, b2, history"
   ]
  },
  {
   "cell_type": "code",
   "execution_count": 64,
   "id": "88ff624b",
   "metadata": {},
   "outputs": [],
   "source": [
    "np.random.seed(2023217)\n",
    "\n",
    "# 10 samples for each label\n",
    "mean0 = [-1, -1]\n",
    "mean1 = [1, 1]\n",
    "cov = [[1, 0], [0, 1]]  \n",
    "\n",
    "X0 = np.random.multivariate_normal(mean0, cov, 10)\n",
    "X1 = np.random.multivariate_normal(mean1, cov, 10)\n",
    "\n",
    "y0 = np.zeros(10)\n",
    "y1 = np.ones(10)\n",
    "\n",
    "X = np.vstack((X0, X1))\n",
    "y = np.hstack((y0, y1))\n",
    "\n",
    "indices = np.arange(20)\n",
    "np.random.shuffle(indices)\n",
    "X = X[indices]\n",
    "y = y[indices]\n",
    "\n",
    "split = 10\n",
    "X_train, X_test = X[:split], X[split:]\n",
    "y_train, y_test = y[:split], y[split:]"
   ]
  },
  {
   "cell_type": "code",
   "execution_count": 65,
   "id": "5b93eef6",
   "metadata": {},
   "outputs": [
    {
     "name": "stdout",
     "output_type": "stream",
     "text": [
      "X_train shape: (10, 2)\n",
      "y_train shape: (10,)\n",
      "X_test shape: (10, 2)\n",
      "y_test shape: (10,)\n"
     ]
    }
   ],
   "source": [
    "print(\"X_train shape:\", X_train.shape)\n",
    "print(\"y_train shape:\", y_train.shape)\n",
    "print(\"X_test shape:\", X_test.shape)\n",
    "print(\"y_test shape:\", y_test.shape)"
   ]
  },
  {
   "cell_type": "code",
   "execution_count": 66,
   "id": "614476dc",
   "metadata": {},
   "outputs": [
    {
     "name": "stdout",
     "output_type": "stream",
     "text": [
      "Iteration 1 | Loss: 0.9666\n",
      "Iteration 2 | Loss: 0.7670\n",
      "Iteration 3 | Loss: 0.6172\n",
      "Iteration 4 | Loss: 0.5043\n",
      "Iteration 5 | Loss: 0.4191\n",
      "Iteration 6 | Loss: 0.3546\n",
      "Iteration 7 | Loss: 0.3056\n",
      "Iteration 8 | Loss: 0.2683\n",
      "Iteration 9 | Loss: 0.2399\n",
      "Iteration 10 | Loss: 0.2181\n",
      "Iteration 11 | Loss: 0.2015\n",
      "Iteration 12 | Loss: 0.1886\n",
      "Iteration 13 | Loss: 0.1788\n",
      "Iteration 14 | Loss: 0.1711\n",
      "Iteration 15 | Loss: 0.1651\n",
      "Iteration 16 | Loss: 0.1605\n",
      "Iteration 17 | Loss: 0.1568\n",
      "Iteration 18 | Loss: 0.1539\n",
      "Iteration 19 | Loss: 0.1515\n",
      "Iteration 20 | Loss: 0.1496\n",
      "Iteration 21 | Loss: 0.1480\n",
      "Iteration 22 | Loss: 0.1467\n",
      "Iteration 23 | Loss: 0.1456\n",
      "Iteration 24 | Loss: 0.1446\n",
      "Iteration 25 | Loss: 0.1438\n",
      "Iteration 26 | Loss: 0.1431\n",
      "Iteration 27 | Loss: 0.1424\n",
      "Iteration 28 | Loss: 0.1418\n",
      "Training converged.\n",
      "\n",
      " Test MSE: 0.4000\n"
     ]
    }
   ],
   "source": [
    "w1, b1, w3, b2, history = train(X_train, y_train, X_test, y_test)\n",
    "yPred_test = np.array([predict(x, w1, b1, w3, b2) for x in X_test])\n",
    "testLoss = mean_squared_error(y_test, yPred_test)\n",
    "print(f\"\\n Test MSE: {testLoss:.4f}\")"
   ]
  },
  {
   "cell_type": "code",
   "execution_count": null,
   "id": "7b3ec3b6",
   "metadata": {},
   "outputs": [
    {
     "data": {
      "image/png": "[encoded data removed]",
      "text/plain": [
       "<Figure size 800x500 with 1 Axes>"
      ]
     },
     "metadata": {},
     "output_type": "display_data"
    }
   ],
   "source": [
    "plt.figure(figsize=(8, 5))\n",
    "plt.plot(history[\"iteration\"], history[\"test_loss\"], marker='s', color='orange', label=\"Test MSE\")\n",
    "plt.title(\"Test MSE Over Training Iterations\")\n",
    "plt.xlabel(\"Iteration\")\n",
    "plt.ylabel(\"Mean Squared Error (MSE)\")\n",
    "plt.grid(True)\n",
    "plt.legend()\n",
    "plt.tight_layout()\n",
    "plt.show()"
   ]
  }
 ],
 "metadata": {
  "kernelspec": {
   "display_name": "Python 3",
   "language": "python",
   "name": "python3"
  },
  "language_info": {
   "codemirror_mode": {
    "name": "ipython",
    "version": 3
   },
   "file_extension": ".py",
   "mimetype": "text/x-python",
   "name": "python",
   "nbconvert_exporter": "python",
   "pygments_lexer": "ipython3",
   "version": "3.13.3"
  }
 },
 "nbformat": 4,
 "nbformat_minor": 5
}
